{
 "cells": [
  {
   "cell_type": "code",
   "execution_count": 1,
   "id": "0ec59038",
   "metadata": {},
   "outputs": [
    {
     "name": "stdout",
     "output_type": "stream",
     "text": [
      "Requirement already satisfied: pyodbc in c:\\users\\mdrrahman\\anaconda3\\lib\\site-packages (4.0.0-unsupported)\n",
      "Requirement already satisfied: pandas in c:\\users\\mdrrahman\\anaconda3\\lib\\site-packages (1.2.4)\n",
      "Requirement already satisfied: pytz>=2017.3 in c:\\users\\mdrrahman\\anaconda3\\lib\\site-packages (from pandas) (2021.1)\n",
      "Requirement already satisfied: python-dateutil>=2.7.3 in c:\\users\\mdrrahman\\anaconda3\\lib\\site-packages (from pandas) (2.8.1)\n",
      "Requirement already satisfied: numpy>=1.16.5 in c:\\users\\mdrrahman\\anaconda3\\lib\\site-packages (from pandas) (1.20.1)\n",
      "Requirement already satisfied: six>=1.5 in c:\\users\\mdrrahman\\anaconda3\\lib\\site-packages (from python-dateutil>=2.7.3->pandas) (1.15.0)\n",
      "Note: you may need to restart the kernel to use updated packages.\n"
     ]
    }
   ],
   "source": [
    "pip install pyodbc pandas"
   ]
  },
  {
   "cell_type": "code",
   "execution_count": 2,
   "id": "76d02793",
   "metadata": {},
   "outputs": [],
   "source": [
    "import pyodbc\n",
    "import pandas\n",
    "\n",
    "server = '<your-sql-svr>.database.windows.net'\n",
    "database = 'AdventureWorks'\n",
    "username = '<your-username>'\n",
    "password = '<your-password>'   \n",
    "driver= '{ODBC Driver 17 for SQL Server}'\n",
    "\n",
    "# Specifying the ODBC driver, server name, database, etc. directly\n",
    "cnxn = pyodbc.connect('DRIVER='+driver+';SERVER=tcp:'+server+';PORT=1433;DATABASE='+database+';UID='+username+';PWD='+ password)\n",
    "\n",
    "# Sample query\n",
    "sql = \"SELECT TOP 3 * FROM SalesLT.Customer\"\n",
    "\n",
    "# Load into Pandas dataframe\n",
    "DF = pandas.read_sql(sql,cnxn)"
   ]
  },
  {
   "cell_type": "code",
   "execution_count": 3,
   "id": "dbd90edf",
   "metadata": {},
   "outputs": [
    {
     "data": {
      "text/html": [
       "<div>\n",
       "<style scoped>\n",
       "    .dataframe tbody tr th:only-of-type {\n",
       "        vertical-align: middle;\n",
       "    }\n",
       "\n",
       "    .dataframe tbody tr th {\n",
       "        vertical-align: top;\n",
       "    }\n",
       "\n",
       "    .dataframe thead th {\n",
       "        text-align: right;\n",
       "    }\n",
       "</style>\n",
       "<table border=\"1\" class=\"dataframe\">\n",
       "  <thead>\n",
       "    <tr style=\"text-align: right;\">\n",
       "      <th></th>\n",
       "      <th>CustomerID</th>\n",
       "      <th>NameStyle</th>\n",
       "      <th>Title</th>\n",
       "      <th>FirstName</th>\n",
       "      <th>MiddleName</th>\n",
       "      <th>LastName</th>\n",
       "      <th>Suffix</th>\n",
       "      <th>CompanyName</th>\n",
       "      <th>SalesPerson</th>\n",
       "      <th>EmailAddress</th>\n",
       "      <th>Phone</th>\n",
       "      <th>PasswordHash</th>\n",
       "      <th>PasswordSalt</th>\n",
       "      <th>rowguid</th>\n",
       "      <th>ModifiedDate</th>\n",
       "    </tr>\n",
       "  </thead>\n",
       "  <tbody>\n",
       "    <tr>\n",
       "      <th>0</th>\n",
       "      <td>1</td>\n",
       "      <td>False</td>\n",
       "      <td>Mr.</td>\n",
       "      <td>Orlando</td>\n",
       "      <td>N.</td>\n",
       "      <td>Gee</td>\n",
       "      <td>None</td>\n",
       "      <td>A Bike Store</td>\n",
       "      <td>adventure-works\\pamela0</td>\n",
       "      <td>orlando0@adventure-works.com</td>\n",
       "      <td>245-555-0173</td>\n",
       "      <td>L/Rlwxzp4w7RWmEgXX+/A7cXaePEPcp+KwQhl2fJL7w=</td>\n",
       "      <td>1KjXYs4=</td>\n",
       "      <td>3F5AE95E-B87D-4AED-95B4-C3797AFCB74F</td>\n",
       "      <td>2005-08-01</td>\n",
       "    </tr>\n",
       "    <tr>\n",
       "      <th>1</th>\n",
       "      <td>2</td>\n",
       "      <td>False</td>\n",
       "      <td>Mr.</td>\n",
       "      <td>Keith</td>\n",
       "      <td>None</td>\n",
       "      <td>Harris</td>\n",
       "      <td>None</td>\n",
       "      <td>Progressive Sports</td>\n",
       "      <td>adventure-works\\david8</td>\n",
       "      <td>keith0@adventure-works.com</td>\n",
       "      <td>170-555-0127</td>\n",
       "      <td>YPdtRdvqeAhj6wyxEsFdshBDNXxkCXn+CRgbvJItknw=</td>\n",
       "      <td>fs1ZGhY=</td>\n",
       "      <td>E552F657-A9AF-4A7D-A645-C429D6E02491</td>\n",
       "      <td>2006-08-01</td>\n",
       "    </tr>\n",
       "    <tr>\n",
       "      <th>2</th>\n",
       "      <td>3</td>\n",
       "      <td>False</td>\n",
       "      <td>Ms.</td>\n",
       "      <td>Donna</td>\n",
       "      <td>F.</td>\n",
       "      <td>Carreras</td>\n",
       "      <td>None</td>\n",
       "      <td>Advanced Bike Components</td>\n",
       "      <td>adventure-works\\jillian0</td>\n",
       "      <td>donna0@adventure-works.com</td>\n",
       "      <td>279-555-0130</td>\n",
       "      <td>LNoK27abGQo48gGue3EBV/UrlYSToV0/s87dCRV7uJk=</td>\n",
       "      <td>YTNH5Rw=</td>\n",
       "      <td>130774B1-DB21-4EF3-98C8-C104BCD6ED6D</td>\n",
       "      <td>2005-09-01</td>\n",
       "    </tr>\n",
       "  </tbody>\n",
       "</table>\n",
       "</div>"
      ],
      "text/plain": [
       "   CustomerID  NameStyle Title FirstName MiddleName  LastName Suffix  \\\n",
       "0           1      False   Mr.   Orlando         N.       Gee   None   \n",
       "1           2      False   Mr.     Keith       None    Harris   None   \n",
       "2           3      False   Ms.     Donna         F.  Carreras   None   \n",
       "\n",
       "                CompanyName               SalesPerson  \\\n",
       "0              A Bike Store   adventure-works\\pamela0   \n",
       "1        Progressive Sports    adventure-works\\david8   \n",
       "2  Advanced Bike Components  adventure-works\\jillian0   \n",
       "\n",
       "                   EmailAddress         Phone  \\\n",
       "0  orlando0@adventure-works.com  245-555-0173   \n",
       "1    keith0@adventure-works.com  170-555-0127   \n",
       "2    donna0@adventure-works.com  279-555-0130   \n",
       "\n",
       "                                   PasswordHash PasswordSalt  \\\n",
       "0  L/Rlwxzp4w7RWmEgXX+/A7cXaePEPcp+KwQhl2fJL7w=     1KjXYs4=   \n",
       "1  YPdtRdvqeAhj6wyxEsFdshBDNXxkCXn+CRgbvJItknw=     fs1ZGhY=   \n",
       "2  LNoK27abGQo48gGue3EBV/UrlYSToV0/s87dCRV7uJk=     YTNH5Rw=   \n",
       "\n",
       "                                rowguid ModifiedDate  \n",
       "0  3F5AE95E-B87D-4AED-95B4-C3797AFCB74F   2005-08-01  \n",
       "1  E552F657-A9AF-4A7D-A645-C429D6E02491   2006-08-01  \n",
       "2  130774B1-DB21-4EF3-98C8-C104BCD6ED6D   2005-09-01  "
      ]
     },
     "metadata": {},
     "output_type": "display_data"
    }
   ],
   "source": [
    "display(DF)"
   ]
  },
  {
   "cell_type": "code",
   "execution_count": 4,
   "id": "47eca2ec",
   "metadata": {},
   "outputs": [],
   "source": [
    "DF.to_csv('SQL_out.csv')"
   ]
  }
 ],
 "metadata": {
  "kernelspec": {
   "display_name": "Python 3",
   "language": "python",
   "name": "python3"
  },
  "language_info": {
   "codemirror_mode": {
    "name": "ipython",
    "version": 3
   },
   "file_extension": ".py",
   "mimetype": "text/x-python",
   "name": "python",
   "nbconvert_exporter": "python",
   "pygments_lexer": "ipython3",
   "version": "3.8.8"
  }
 },
 "nbformat": 4,
 "nbformat_minor": 5
}
